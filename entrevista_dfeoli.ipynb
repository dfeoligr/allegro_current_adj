{
 "cells": [
  {
   "cell_type": "markdown",
   "id": "d16d69fa-932a-4ae5-b67d-70848c7d57a9",
   "metadata": {},
   "source": [
    "# <center> Entrevista Técnica\n",
    "## <center> Allegro Microsystems\n",
    "***\n",
    "Autora: Daniela Feoli Grant<br>\n",
    "Creación: 09.01.2024<br>\n",
    "El siguiente código corresponde al problema a resolver para la entrevista técnica de \n",
    "Allegro Microsystems para el puesto de Test Engineer. Simula la funcionalidad de los IC de Allegro para ajustar\n",
    "la corriente."
   ]
  },
  {
   "cell_type": "code",
   "execution_count": 26,
   "id": "a05576cf-e878-44d3-b8d9-3f7c3b0b5284",
   "metadata": {},
   "outputs": [],
   "source": [
    "import random\n",
    "import csv\n",
    "import os\n",
    "import matplotlib.pyplot as plt\n",
    "import pandas as pd"
   ]
  },
  {
   "cell_type": "markdown",
   "id": "7db15210-ede8-47c2-b4cf-c1c3982af541",
   "metadata": {},
   "source": [
    "### Clase AllegroIC\n",
    "- Recibe como argumento el valor deseado de corriente (*targ_current*)\n",
    "- Contiene dos métodos:\n",
    "    - **adjust_I** que se encarga de ajustar el valor de corriente lo más cercano posible a 2.5 uA y va actualizando el registro.\n",
    "        - Argumentos:\n",
    "            - *seed*: funciona de semilla para generar algún valor aleatorio de corriente inicial acotado entre 1 uA y 5 uA.\n",
    "        - Retorno:\n",
    "            - *current_init*: corriente inicial\n",
    "            - *current*: corriente final\n",
    "            - *reg*: valor del registro\n",
    "    - **save2csv** que guarda los datos en formato CSV.\n",
    "        - Argumentos:\n",
    "            - *current_init*: corriente inicial\n",
    "            - *current*: corriente final\n",
    "            - *reg*: valor del registro\n",
    "            - *filename*: nombre deseado del archivo, ej.: 'datos_ajuste'\n"
   ]
  },
  {
   "cell_type": "code",
   "execution_count": 27,
   "id": "63b39e2a-baa8-43c9-b21c-004754ee0374",
   "metadata": {},
   "outputs": [],
   "source": [
    "class AllegroIC:\n",
    "    def __init__(self, targ_current:float):\n",
    "        self.targ_current = targ_current\n",
    "        \n",
    "    def __str__(self):\n",
    "        return f\"Target current is: {self.targ_current}.\"\n",
    "\n",
    "    def adjust_I(self, seed, flag=False):\n",
    "        self.seed = random.seed(seed)                 # Utiliza semillas para generar los valores aleatorios\n",
    "        self.flag = flag\n",
    "\n",
    "        current = random.uniform(1e-6, 5e-6)          # Crea valores pseudo-aleatorios entre 1e-6 y 5e-6\n",
    "        current_init = current                        # Guarda la corriente inicial\n",
    "        current_diff = self.targ_current - current\n",
    "\n",
    "        #print(\"La corriente inicial es de\",current_init)\n",
    "        \n",
    "        reg = 0                                         # Valor default del registro es 0. Caso en el que no es necesario ajustar corriente.\n",
    "        reg_2 = 0\n",
    "        if -0.05e-6 < current_diff < 0.05e-6:         \n",
    "            reg += 1\n",
    "\n",
    "        elif current_diff <= -0.05e-6:                # Resta 0.1 uA y actualiza el registro (8 <= reg <= 15)\n",
    "            reg = 8   \n",
    "            while current_diff <= -0.05e-6 and reg <= 15:\n",
    "                current = current - float(0.100e-6)\n",
    "                current_diff = self.targ_current - current\n",
    "                reg += 1\n",
    "            if reg == 16 and self.flag == True:\n",
    "                reg_2 = 8\n",
    "                while current_diff <= -0.05e-6 and reg_2 <= 15:\n",
    "                    current = current - float(0.100e-6)\n",
    "                    current_diff = self.targ_current - current\n",
    "                    reg_2 += 1\n",
    "            #print(\"La corriente final es de\",current,\" A.\\nEl registro es:\", reg-1)\n",
    "\n",
    "        elif current_diff >= 0.05e-6:                 # Suma 0.1 uA y actualiza el registro (1 <= reg <= 7)  \n",
    "            reg = 1\n",
    "            while current_diff >= 0.05e-6 and reg <= 7:\n",
    "                current = current + float(0.100e-6)\n",
    "                current_diff = self.targ_current - current\n",
    "                reg += 1\n",
    "            if reg == 8 and self.flag == True:\n",
    "                reg_2 = 1\n",
    "                while current_diff >= 0.05e-6 and reg_2 <= 7:\n",
    "                    current = current + float(0.100e-6)\n",
    "                    current_diff = self.targ_current - current\n",
    "                    reg_2 += 1\n",
    "\n",
    "            #print(\"La corriente final es de\",current,\" A.\\nEl registro es:\", reg-1)\n",
    "\n",
    "        return current_init, current, reg-1, reg_2-1\n",
    "        \n",
    "\n",
    "    def save2csv(self,current_init,current,reg,reg_2,filename:str):\n",
    "        self.current_init = current_init\n",
    "        self.current = current\n",
    "        self.reg = reg\n",
    "        self.reg_2 = reg_2\n",
    "        self.filename = filename\n",
    "\n",
    "        if not os.path.exists('./'+filename+'.csv'): # Escribir el encabezado si es que se trata de un archivo nuevo\n",
    "            with open(filename+'.csv', 'w', newline='') as file:\n",
    "                writer = csv.writer(file)\n",
    "                writer.writerow(['Corriente inicial (A)','Corriente final (A)','Valor del registro 1', 'Valor del registro 2'])\n",
    "        \n",
    "        with open(filename+'.csv', 'a', newline='') as file: # Agrega los datos del ajuste al csv\n",
    "            writer = csv.writer(file)\n",
    "            writer.writerow([current_init,current,reg,reg_2])"
   ]
  },
  {
   "cell_type": "markdown",
   "id": "4bb77f97-1c64-4e9a-a917-b3cfd343aa46",
   "metadata": {},
   "source": [
    "Se instancia un objeto de la clase AllegroIC con una corriente deseada de 2.5 uA. Del mismo modo, se crea un arreglo *seed_arr* que contiene 10k semillas para probar valores aleatorios de corriente inicial."
   ]
  },
  {
   "cell_type": "code",
   "execution_count": 28,
   "id": "471a2f2f-d772-408e-be96-d2ef23e2c509",
   "metadata": {},
   "outputs": [],
   "source": [
    "aic1 = AllegroIC(2.5e-6)\n",
    "seed_arr = range(0,9999,1)\n",
    "init_arr = []\n",
    "current_arr = []\n",
    "filename = 'datos'"
   ]
  },
  {
   "cell_type": "markdown",
   "id": "7684eac9-d869-49ff-8c88-f60b83f2b986",
   "metadata": {},
   "source": [
    "Se itera el método de adjust_I para todas las semillas. Se puede observar el resultado en terminal así como proceder a abrir el CSV creado en carpeta."
   ]
  },
  {
   "cell_type": "code",
   "execution_count": 29,
   "id": "d76910db-7ca5-4e8d-be75-3330ddf856e8",
   "metadata": {},
   "outputs": [],
   "source": [
    "for i in seed_arr:\n",
    "    [init,current,reg,reg_2]=aic1.adjust_I(i)\n",
    "    aic1.save2csv(init,current,reg,reg_2,filename)\n",
    "    init_arr.append(init)\n",
    "    current_arr.append(current)"
   ]
  },
  {
   "cell_type": "markdown",
   "id": "2612a56c-d410-468f-9f41-12991ce247f1",
   "metadata": {},
   "source": [
    "## Resultados\n",
    "Se grafican los histogramas en donde se observa con claridad los valores de corriente ajustados alrededor de 2.5 uA."
   ]
  },
  {
   "cell_type": "code",
   "execution_count": 30,
   "id": "1d3c8479-2acc-4213-ae6c-6e70be315d40",
   "metadata": {},
   "outputs": [
    {
     "data": {
      "image/png": "[encoded data removed]",
      "text/plain": [
       "<Figure size 640x480 with 1 Axes>"
      ]
     },
     "metadata": {},
     "output_type": "display_data"
    }
   ],
   "source": [
    "plt.hist(init_arr,color='r')\n",
    "plt.xlabel('Corriente inicial (A)')\n",
    "plt.show()\n"
   ]
  },
  {
   "cell_type": "code",
   "execution_count": 31,
   "id": "bcc275c7-76a7-478e-abdf-74ed04fbeacf",
   "metadata": {},
   "outputs": [
    {
     "data": {
      "image/png": "[encoded data removed]",
      "text/plain": [
       "<Figure size 640x480 with 1 Axes>"
      ]
     },
     "metadata": {},
     "output_type": "display_data"
    }
   ],
   "source": [
    "plt.hist(current_arr,color='g')\n",
    "plt.xlabel('Corriente final (A)')\n",
    "plt.show()"
   ]
  },
  {
   "cell_type": "markdown",
   "id": "34885b9d-22d2-43e7-b164-0c7e9c67eb21",
   "metadata": {},
   "source": [
    "El CSV muestra los siguientes datos:"
   ]
  },
  {
   "cell_type": "code",
   "execution_count": 32,
   "id": "84a062b9-259b-45e3-b02d-932233721e17",
   "metadata": {},
   "outputs": [
    {
     "data": {
      "text/html": [
       "<div>\n",
       "<style scoped>\n",
       "    .dataframe tbody tr th:only-of-type {\n",
       "        vertical-align: middle;\n",
       "    }\n",
       "\n",
       "    .dataframe tbody tr th {\n",
       "        vertical-align: top;\n",
       "    }\n",
       "\n",
       "    .dataframe thead th {\n",
       "        text-align: right;\n",
       "    }\n",
       "</style>\n",
       "<table border=\"1\" class=\"dataframe\">\n",
       "  <thead>\n",
       "    <tr style=\"text-align: right;\">\n",
       "      <th></th>\n",
       "      <th>Corriente inicial (A)</th>\n",
       "      <th>Corriente final (A)</th>\n",
       "      <th>Valor del registro (decimal)</th>\n",
       "      <th>Valor del registro (binario)</th>\n",
       "    </tr>\n",
       "  </thead>\n",
       "  <tbody>\n",
       "    <tr>\n",
       "      <th>0</th>\n",
       "      <td>0.000004378</td>\n",
       "      <td>0.000003578</td>\n",
       "      <td>15</td>\n",
       "      <td>0b1111</td>\n",
       "    </tr>\n",
       "    <tr>\n",
       "      <th>1</th>\n",
       "      <td>0.000001537</td>\n",
       "      <td>0.000002237</td>\n",
       "      <td>7</td>\n",
       "      <td>0b111</td>\n",
       "    </tr>\n",
       "    <tr>\n",
       "      <th>2</th>\n",
       "      <td>0.000004824</td>\n",
       "      <td>0.000004024</td>\n",
       "      <td>15</td>\n",
       "      <td>0b1111</td>\n",
       "    </tr>\n",
       "    <tr>\n",
       "      <th>3</th>\n",
       "      <td>0.000001952</td>\n",
       "      <td>0.000002452</td>\n",
       "      <td>5</td>\n",
       "      <td>0b101</td>\n",
       "    </tr>\n",
       "    <tr>\n",
       "      <th>4</th>\n",
       "      <td>0.000001944</td>\n",
       "      <td>0.000002544</td>\n",
       "      <td>6</td>\n",
       "      <td>0b110</td>\n",
       "    </tr>\n",
       "    <tr>\n",
       "      <th>5</th>\n",
       "      <td>0.000003492</td>\n",
       "      <td>0.000002692</td>\n",
       "      <td>15</td>\n",
       "      <td>0b1111</td>\n",
       "    </tr>\n",
       "    <tr>\n",
       "      <th>6</th>\n",
       "      <td>0.000004173</td>\n",
       "      <td>0.000003373</td>\n",
       "      <td>15</td>\n",
       "      <td>0b1111</td>\n",
       "    </tr>\n",
       "    <tr>\n",
       "      <th>7</th>\n",
       "      <td>0.000002295</td>\n",
       "      <td>0.000002495</td>\n",
       "      <td>2</td>\n",
       "      <td>0b10</td>\n",
       "    </tr>\n",
       "    <tr>\n",
       "      <th>8</th>\n",
       "      <td>0.000001907</td>\n",
       "      <td>0.000002507</td>\n",
       "      <td>6</td>\n",
       "      <td>0b110</td>\n",
       "    </tr>\n",
       "    <tr>\n",
       "      <th>9</th>\n",
       "      <td>0.000002852</td>\n",
       "      <td>0.000002452</td>\n",
       "      <td>11</td>\n",
       "      <td>0b1011</td>\n",
       "    </tr>\n",
       "  </tbody>\n",
       "</table>\n",
       "</div>"
      ],
      "text/plain": [
       "   Corriente inicial (A)  Corriente final (A)  Valor del registro (decimal)  \\\n",
       "0            0.000004378          0.000003578                            15   \n",
       "1            0.000001537          0.000002237                             7   \n",
       "2            0.000004824          0.000004024                            15   \n",
       "3            0.000001952          0.000002452                             5   \n",
       "4            0.000001944          0.000002544                             6   \n",
       "5            0.000003492          0.000002692                            15   \n",
       "6            0.000004173          0.000003373                            15   \n",
       "7            0.000002295          0.000002495                             2   \n",
       "8            0.000001907          0.000002507                             6   \n",
       "9            0.000002852          0.000002452                            11   \n",
       "\n",
       "  Valor del registro (binario)  \n",
       "0                       0b1111  \n",
       "1                        0b111  \n",
       "2                       0b1111  \n",
       "3                        0b101  \n",
       "4                        0b110  \n",
       "5                       0b1111  \n",
       "6                       0b1111  \n",
       "7                         0b10  \n",
       "8                        0b110  \n",
       "9                       0b1011  "
      ]
     },
     "execution_count": 32,
     "metadata": {},
     "output_type": "execute_result"
    }
   ],
   "source": [
    "pd.options.display.float_format = '{:.9f}'.format\n",
    "df = pd.read_csv(filename+'.csv')\n",
    "df.head(10)"
   ]
  },
  {
   "cell_type": "code",
   "execution_count": null,
   "id": "8c2281f3-cb1a-42d4-8d68-cf94335ed1ee",
   "metadata": {},
   "outputs": [],
   "source": []
  }
 ],
 "metadata": {
  "kernelspec": {
   "display_name": "Python 3 (ipykernel)",
   "language": "python",
   "name": "python3"
  },
  "language_info": {
   "codemirror_mode": {
    "name": "ipython",
    "version": 3
   },
   "file_extension": ".py",
   "mimetype": "text/x-python",
   "name": "python",
   "nbconvert_exporter": "python",
   "pygments_lexer": "ipython3",
   "version": "3.9.6"
  }
 },
 "nbformat": 4,
 "nbformat_minor": 5
}

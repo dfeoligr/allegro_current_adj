{
 "cells": [
  {
   "cell_type": "markdown",
   "id": "d16d69fa-932a-4ae5-b67d-70848c7d57a9",
   "metadata": {},
   "source": [
    "# <center> Test Engineer\n",
    "## <center> Current adjustment simulator for IC testing\n",
    "***\n",
    "Autora: Daniela Feoli Grant<br>\n",
    "Creación: 09.01.2024<br>\n",
    "\n",
    "Versión 2 -- Cambios:\n",
    "- Se agregaron variables para poder crear el objeto AlegroIC seleccionando también el límite inferior y superior de las corrientes de entrada, el valor que ajusta cada bit del registro (step), y la cantidad de bits del registro.\n",
    "- Se cambió el algoritmo para calcular el registro deseado: se calcula el cociente de la diferencia entre la corriente inicial y la corriente deseada y el valor que ajusta cada bit del registro (step)\n",
    "- Se cambió la forma de guardar los datos en el CSV para utilizar data frames de Pandas\n",
    "\n",
    "El siguiente código simula la funcionalidad de los IC de Allegro para ajustar\n",
    "la corriente."
   ]
  },
  {
   "cell_type": "code",
   "execution_count": 350,
   "id": "a05576cf-e878-44d3-b8d9-3f7c3b0b5284",
   "metadata": {},
   "outputs": [],
   "source": [
    "import random\n",
    "import matplotlib.pyplot as plt\n",
    "import pandas as pd"
   ]
  },
  {
   "cell_type": "markdown",
   "id": "7db15210-ede8-47c2-b4cf-c1c3982af541",
   "metadata": {},
   "source": [
    "### Clase AllegroIC\n",
    "- Recibe como argumentos los siguientes, de manera que sea customizable dependiendo de las características del chip a testear:\n",
    "    - **targ_current**: (float) es la corriente final a la cual se quiere llegar\n",
    "    - **min_in**: (float) el valor mínimo de posibles corrientes de entrada\n",
    "    - **max_in**: (float) el valor máximo de posibles corrientes de entrada\n",
    "    - **step**: (float) el valor de corriente que ajusta cada bit del registro\n",
    "    - **reg_bits**: (int) la cantidad de bits que componen el registro\n",
    "- Contiene un método:\n",
    "    - **adjust_I** se encarga de ajustar el valor de corriente lo más cercano posible a *targ_current* y va actualizando el registro *reg*.\n",
    "        - Argumentos:\n",
    "            - *seed*: funciona de semilla para generar algún valor aleatorio de corriente inicial acotado entre *min_in* y *max_in*\n",
    "        - Retorno:\n",
    "            - *current_init*: corriente inicial\n",
    "            - *current*: corriente final\n",
    "            - *reg*: valor del registro\n"
   ]
  },
  {
   "cell_type": "code",
   "execution_count": 351,
   "id": "63b39e2a-baa8-43c9-b21c-004754ee0374",
   "metadata": {},
   "outputs": [],
   "source": [
    "class AllegroIC:\n",
    "    def __init__(self, targ_current:float, min_in:float, max_in:float, step:float, reg_bits:int):\n",
    "        self.targ_current = targ_current\n",
    "        self.min_in = min_in\n",
    "        self.max_in = max_in\n",
    "        self.step = step\n",
    "        self.reg_bits = reg_bits\n",
    "        \n",
    "    def __str__(self):\n",
    "        return f\"Target current is: {self.targ_current}.\"\n",
    "\n",
    "    def adjust_I(self, seed:int):\n",
    "        self.seed = random.seed(seed)                                       # Utiliza semillas para generar los valores aleatorios\n",
    "        current_init = random.uniform(self.min_in, self.max_in)             # Crea valores pseudo-aleatorios entre min_in y max_in\n",
    "        current_diff = self.targ_current - current_init\n",
    "        current = 0\n",
    "        reg = 0\n",
    "\n",
    "        #print(\"La corriente inicial es de\",current_init)\n",
    "\n",
    "        if -self.step/2 < current_diff < self.step/2:                       # Valor default del registro es 0. Caso en el que no es necesario ajustar corriente.         \n",
    "            reg = 0\n",
    "            current = current_init\n",
    "\n",
    "        elif current_diff <= -self.step/2:                                  # Caso en el que es necesario restar corriente \n",
    "            reg = round(abs(current_diff) / self.step, 0) + (self.reg_bits/2 - 1)\n",
    "\n",
    "            if reg >= self.reg_bits:                                        # Define el máximo ajuste posible\n",
    "                reg = self.reg_bits - 1\n",
    "\n",
    "            current = current_init - (reg - (self.reg_bits/2 - 1)) * self.step\n",
    "            #print(\"La corriente final es de\",current,\" A.\\nEl registro es:\", reg)\n",
    "\n",
    "        elif current_diff >= self.step/2:                                   # Caso en el que es necesario sumar corriente \n",
    "            reg = round(abs(current_diff) / self.step, 0)\n",
    "            \n",
    "            if reg >= self.reg_bits/2:                                      # Define el máximo ajuste posible\n",
    "                reg = self.reg_bits/2 - 1\n",
    "\n",
    "            current = current_init + (reg * self.step)\n",
    "            #print(\"La corriente final es de\",current,\" A.\\nEl registro es:\", reg)\n",
    "\n",
    "        return current_init, current, reg\n",
    "        \n",
    "        \n",
    "\n",
    "    "
   ]
  },
  {
   "cell_type": "markdown",
   "id": "4bb77f97-1c64-4e9a-a917-b3cfd343aa46",
   "metadata": {},
   "source": [
    "Se instancia un objeto de la clase AllegroIC con una corriente deseada de 2.5 uA y que utilice un rango de 1 uA a 5 uA. Tiene un registro de 16 bits, en el que cada bit actualiza 0.1 uA. Del mismo modo, se crea un arreglo *seed_arr* que contiene 10k semillas para probar valores aleatorios de corriente inicial."
   ]
  },
  {
   "cell_type": "code",
   "execution_count": 352,
   "id": "471a2f2f-d772-408e-be96-d2ef23e2c509",
   "metadata": {},
   "outputs": [],
   "source": [
    "aic1 = AllegroIC(targ_current=2.5e-6, min_in=1e-6, max_in=5e-6, step=0.1e-6, reg_bits=16) \n",
    "seed_arr = range(0,9999,1)                  # Creación de 10000 semillas para generar los valores aleatorios de corriente de entrada\n",
    "filename = 'datos'                          # Nombre que se le dará al CSV"
   ]
  },
  {
   "cell_type": "markdown",
   "id": "7684eac9-d869-49ff-8c88-f60b83f2b986",
   "metadata": {},
   "source": [
    "Se itera el método de adjust_I para todas las semillas. Se puede observar el resultado en terminal así como proceder a abrir el CSV creado en carpeta."
   ]
  },
  {
   "cell_type": "code",
   "execution_count": 353,
   "id": "d76910db-7ca5-4e8d-be75-3330ddf856e8",
   "metadata": {},
   "outputs": [],
   "source": [
    "init_arr = []\n",
    "current_arr = []\n",
    "reg_arr = []\n",
    "\n",
    "for i in seed_arr:                                                          # Iteración para ajustar la corriente para cada semilla\n",
    "    [init,current,reg]=aic1.adjust_I(i)\n",
    "    init_arr.append(init)\n",
    "    current_arr.append(current)\n",
    "    reg_arr.append(int(reg))\n",
    "\n",
    "data = list(zip(init_arr,current_arr,reg_arr))                              # Crea un tuple de las listas generadas en la iteración para poder pasarlo a dataframe\n",
    "df = pd.DataFrame(data,\n",
    "                  columns = ['Corriente inicial (A)','Corriente final (A)','Valor del registro (decimal)'])\n",
    "\n",
    "df.to_csv(filename+'.csv')\n"
   ]
  },
  {
   "cell_type": "markdown",
   "id": "2612a56c-d410-468f-9f41-12991ce247f1",
   "metadata": {},
   "source": [
    "## Resultados\n",
    "Se grafican los histogramas en donde se observa con claridad los valores de corriente ajustados alrededor de 2.5 uA."
   ]
  },
  {
   "cell_type": "code",
   "execution_count": 354,
   "id": "1d3c8479-2acc-4213-ae6c-6e70be315d40",
   "metadata": {},
   "outputs": [
    {
     "data": {
      "image/png": "[encoded data removed]",
      "text/plain": [
       "<Figure size 640x480 with 1 Axes>"
      ]
     },
     "metadata": {},
     "output_type": "display_data"
    }
   ],
   "source": [
    "plt.hist(init_arr,color='r',bins=500)\n",
    "plt.xlabel('Corriente inicial (A)')\n",
    "plt.show()\n"
   ]
  },
  {
   "cell_type": "code",
   "execution_count": 355,
   "id": "bcc275c7-76a7-478e-abdf-74ed04fbeacf",
   "metadata": {},
   "outputs": [
    {
     "data": {
      "image/png": "[encoded data removed]",
      "text/plain": [
       "<Figure size 640x480 with 1 Axes>"
      ]
     },
     "metadata": {},
     "output_type": "display_data"
    }
   ],
   "source": [
    "plt.hist(current_arr,color='g',bins=500)\n",
    "plt.xlabel('Corriente final (A)')\n",
    "plt.show()"
   ]
  },
  {
   "cell_type": "markdown",
   "id": "34885b9d-22d2-43e7-b164-0c7e9c67eb21",
   "metadata": {},
   "source": [
    "El CSV muestra los siguientes datos:"
   ]
  },
  {
   "cell_type": "code",
   "execution_count": 356,
   "id": "84a062b9-259b-45e3-b02d-932233721e17",
   "metadata": {},
   "outputs": [
    {
     "data": {
      "text/html": [
       "<div>\n",
       "<style scoped>\n",
       "    .dataframe tbody tr th:only-of-type {\n",
       "        vertical-align: middle;\n",
       "    }\n",
       "\n",
       "    .dataframe tbody tr th {\n",
       "        vertical-align: top;\n",
       "    }\n",
       "\n",
       "    .dataframe thead th {\n",
       "        text-align: right;\n",
       "    }\n",
       "</style>\n",
       "<table border=\"1\" class=\"dataframe\">\n",
       "  <thead>\n",
       "    <tr style=\"text-align: right;\">\n",
       "      <th></th>\n",
       "      <th>Unnamed: 0</th>\n",
       "      <th>Corriente inicial (A)</th>\n",
       "      <th>Corriente final (A)</th>\n",
       "      <th>Valor del registro (decimal)</th>\n",
       "    </tr>\n",
       "  </thead>\n",
       "  <tbody>\n",
       "    <tr>\n",
       "      <th>0</th>\n",
       "      <td>0</td>\n",
       "      <td>0.000004378</td>\n",
       "      <td>0.000003578</td>\n",
       "      <td>15</td>\n",
       "    </tr>\n",
       "    <tr>\n",
       "      <th>1</th>\n",
       "      <td>1</td>\n",
       "      <td>0.000001537</td>\n",
       "      <td>0.000002237</td>\n",
       "      <td>7</td>\n",
       "    </tr>\n",
       "    <tr>\n",
       "      <th>2</th>\n",
       "      <td>2</td>\n",
       "      <td>0.000004824</td>\n",
       "      <td>0.000004024</td>\n",
       "      <td>15</td>\n",
       "    </tr>\n",
       "    <tr>\n",
       "      <th>3</th>\n",
       "      <td>3</td>\n",
       "      <td>0.000001952</td>\n",
       "      <td>0.000002452</td>\n",
       "      <td>5</td>\n",
       "    </tr>\n",
       "    <tr>\n",
       "      <th>4</th>\n",
       "      <td>4</td>\n",
       "      <td>0.000001944</td>\n",
       "      <td>0.000002544</td>\n",
       "      <td>6</td>\n",
       "    </tr>\n",
       "    <tr>\n",
       "      <th>5</th>\n",
       "      <td>5</td>\n",
       "      <td>0.000003492</td>\n",
       "      <td>0.000002692</td>\n",
       "      <td>15</td>\n",
       "    </tr>\n",
       "    <tr>\n",
       "      <th>6</th>\n",
       "      <td>6</td>\n",
       "      <td>0.000004173</td>\n",
       "      <td>0.000003373</td>\n",
       "      <td>15</td>\n",
       "    </tr>\n",
       "    <tr>\n",
       "      <th>7</th>\n",
       "      <td>7</td>\n",
       "      <td>0.000002295</td>\n",
       "      <td>0.000002495</td>\n",
       "      <td>2</td>\n",
       "    </tr>\n",
       "    <tr>\n",
       "      <th>8</th>\n",
       "      <td>8</td>\n",
       "      <td>0.000001907</td>\n",
       "      <td>0.000002507</td>\n",
       "      <td>6</td>\n",
       "    </tr>\n",
       "    <tr>\n",
       "      <th>9</th>\n",
       "      <td>9</td>\n",
       "      <td>0.000002852</td>\n",
       "      <td>0.000002452</td>\n",
       "      <td>11</td>\n",
       "    </tr>\n",
       "  </tbody>\n",
       "</table>\n",
       "</div>"
      ],
      "text/plain": [
       "   Unnamed: 0  Corriente inicial (A)  Corriente final (A)  \\\n",
       "0           0            0.000004378          0.000003578   \n",
       "1           1            0.000001537          0.000002237   \n",
       "2           2            0.000004824          0.000004024   \n",
       "3           3            0.000001952          0.000002452   \n",
       "4           4            0.000001944          0.000002544   \n",
       "5           5            0.000003492          0.000002692   \n",
       "6           6            0.000004173          0.000003373   \n",
       "7           7            0.000002295          0.000002495   \n",
       "8           8            0.000001907          0.000002507   \n",
       "9           9            0.000002852          0.000002452   \n",
       "\n",
       "   Valor del registro (decimal)  \n",
       "0                            15  \n",
       "1                             7  \n",
       "2                            15  \n",
       "3                             5  \n",
       "4                             6  \n",
       "5                            15  \n",
       "6                            15  \n",
       "7                             2  \n",
       "8                             6  \n",
       "9                            11  "
      ]
     },
     "execution_count": 356,
     "metadata": {},
     "output_type": "execute_result"
    }
   ],
   "source": [
    "pd.options.display.float_format = '{:.9f}'.format\n",
    "df = pd.read_csv(filename+'.csv')\n",
    "df.head(10)"
   ]
  },
  {
   "cell_type": "code",
   "execution_count": null,
   "id": "8c2281f3-cb1a-42d4-8d68-cf94335ed1ee",
   "metadata": {},
   "outputs": [],
   "source": []
  }
 ],
 "metadata": {
  "kernelspec": {
   "display_name": "Python 3 (ipykernel)",
   "language": "python",
   "name": "python3"
  },
  "language_info": {
   "codemirror_mode": {
    "name": "ipython",
    "version": 3
   },
   "file_extension": ".py",
   "mimetype": "text/x-python",
   "name": "python",
   "nbconvert_exporter": "python",
   "pygments_lexer": "ipython3",
   "version": "3.9.6"
  }
 },
 "nbformat": 4,
 "nbformat_minor": 5
}
